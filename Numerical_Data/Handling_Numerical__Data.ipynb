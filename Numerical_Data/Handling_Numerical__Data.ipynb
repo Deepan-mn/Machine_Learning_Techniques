{
  "nbformat": 4,
  "nbformat_minor": 0,
  "metadata": {
    "colab": {
      "name": "Handling_Numerical_ Data.ipynb",
      "provenance": [],
      "authorship_tag": "ABX9TyNJRdogi/4KhJ835WBDp6D4",
      "include_colab_link": true
    },
    "kernelspec": {
      "name": "python3",
      "display_name": "Python 3"
    },
    "language_info": {
      "name": "python"
    }
  },
  "cells": [
    {
      "cell_type": "markdown",
      "metadata": {
        "id": "view-in-github",
        "colab_type": "text"
      },
      "source": [
        "<a href=\"https://colab.research.google.com/github/Deepan-mn/Machine_Learning_Techniques/blob/main/Numerical_Data/Handling_Numerical__Data.ipynb\" target=\"_parent\"><img src=\"https://colab.research.google.com/assets/colab-badge.svg\" alt=\"Open In Colab\"/></a>"
      ]
    },
    {
      "cell_type": "markdown",
      "source": [
        "##**Handling Numerical Data**"
      ],
      "metadata": {
        "id": "TsV3i2SDvYzp"
      }
    },
    {
      "cell_type": "markdown",
      "source": [
        "##**Introduction**<br>\n",
        "Numerical data is a data type expressed in numbers, rather than natural language description. Sometimes called quantitative data, numerical data is always collected in number form.<br>\n",
        "Qunatitative data is the measurement of like- whether class size, monthly sales, or student scores. The natural way to represent these quantities is numerically(eg. 30 students , 1000rupees in sales)."
      ],
      "metadata": {
        "id": "9_06pYqlveDQ"
      }
    },
    {
      "cell_type": "markdown",
      "source": [
        "##**Rescaling a Feature**"
      ],
      "metadata": {
        "id": "TYJAsv4DwzH6"
      }
    },
    {
      "cell_type": "markdown",
      "source": [
        "Rescalling is a common preprocessing task in machine learning.Many of the Algorithms will assume all features are on the same scale, typically 0 to 1 or -1 to 1. There are a number of rescalling techniques,but one of the simplest is called **min-max scaling** in scikit-learn library. Min-Max  scaling uses the minimum and maximum values of a feature to rescale values to with a range. Specifically,min-max calculates **x(i) = x(i)-min(x)/max(x)-min(x)** where x is the feature vector , x(i) is an individual element of feature  x and x(i) is the **rescaled element**.  This mim-max scaler is mostly used in the Neural Network"
      ],
      "metadata": {
        "id": "QKi6cXsgxFij"
      }
    },
    {
      "cell_type": "code",
      "source": [
        "import pandas as pd\n",
        "import numpy as np"
      ],
      "metadata": {
        "id": "AN2WSkk0-Yon"
      },
      "execution_count": 4,
      "outputs": []
    },
    {
      "cell_type": "code",
      "execution_count": null,
      "metadata": {
        "id": "KB5JVP7nuTkz"
      },
      "outputs": [],
      "source": [
        "#Use Scikit-learn's MinMaxScaler to rescale a feature array\n",
        "from sklearn import preprocessing\n",
        "# Create Feature\n",
        "feature = np.array([[-500.5],\n",
        "                    [-100.1],\n",
        "                    [0],\n",
        "                    [100.1],\n",
        "                    [900.9]])\n",
        "#Create Scaler\n",
        "minmax_scale = preprocessing.MinMaxScaler(feature_range=(0,1))\n",
        "\n",
        "#Scale feature\n",
        "scaled_feature =minmax_scale.fit_transform(feature)\n"
      ]
    },
    {
      "cell_type": "code",
      "source": [
        "scaled_feature"
      ],
      "metadata": {
        "colab": {
          "base_uri": "https://localhost:8080/"
        },
        "id": "LpkW6nOKCfdc",
        "outputId": "625c045d-8370-4432-c67a-fd91d520d2bd"
      },
      "execution_count": null,
      "outputs": [
        {
          "output_type": "execute_result",
          "data": {
            "text/plain": [
              "array([[0.        ],\n",
              "       [0.28571429],\n",
              "       [0.35714286],\n",
              "       [0.42857143],\n",
              "       [1.        ]])"
            ]
          },
          "metadata": {},
          "execution_count": 8
        }
      ]
    },
    {
      "cell_type": "markdown",
      "source": [
        "In this, the Output array that the feature has been successfully rescaled to between 0 and 1 scikit-learn's MinMaxScaler offers two options to rescale a feature. One option is to use **fit to calculate the minimum and maximum** values of the feature, then use **trans form  to rescaale the feature**. The second option is to use fit_transform  to both operations at once. There is no mathematical difference between the two options, but there is sometimes a practical benefit to keeping the operations separate because it allows us to apply the same tranformation to different sets of the data."
      ],
      "metadata": {
        "id": "Yg27clKCCiCC"
      }
    },
    {
      "cell_type": "markdown",
      "source": [
        "##**Standardizing a Feature**\n",
        "  You want to transform a feature to have a mean of  0 and a standard deviation of<br>\n",
        "  1.Scikit-learn's **StandardScaler** performs both transformations"
      ],
      "metadata": {
        "id": "Q68ZZXjQFZrW"
      }
    },
    {
      "cell_type": "code",
      "source": [
        "# Load Libraries\n",
        "import numpy as np\n",
        "from sklearn import preprocessing\n",
        "#Create Feature\n",
        "x= np.array([[-1000.1],\n",
        "        [-200.2],\n",
        "        [500.5],\n",
        "        [600.6],\n",
        "        [9000.9]])\n",
        "#Create Scaler\n",
        "scaler = preprocessing.StandardScaler()\n",
        "#Transform the feature\n",
        "standardized = scaler.fit_transform(x)"
      ],
      "metadata": {
        "id": "FiwJNyjUG3y2"
      },
      "execution_count": 2,
      "outputs": []
    },
    {
      "cell_type": "code",
      "source": [
        "standardized"
      ],
      "metadata": {
        "colab": {
          "base_uri": "https://localhost:8080/"
        },
        "id": "SjA-YylwKWS4",
        "outputId": "ab69fe78-7c9a-4487-d3c8-c41a69c15396"
      },
      "execution_count": null,
      "outputs": [
        {
          "output_type": "execute_result",
          "data": {
            "text/plain": [
              "array([[-0.76058269],\n",
              "       [-0.54177196],\n",
              "       [-0.35009716],\n",
              "       [-0.32271504],\n",
              "       [ 1.97516685]])"
            ]
          },
          "metadata": {},
          "execution_count": 6
        }
      ]
    },
    {
      "cell_type": "markdown",
      "source": [
        "The Standardization is used to transform the data such that it has a **mean ,x̄,of 0** and a **Standard Deviatin,σ,of 1**.The tranformed feature represents the number fo standard deviations the original value is away from the feature's mean value(**also called Z-score in statistics**). Standardization is a common go-to scalling  method for the machine learning preprocessing and it is mostly used than the min-max scalling. But it purely depends on the learning algorithm. For example Principal component analysis(**PCA**) often works better using standardization, while min-max scaling is often recommended for neural networks. As a general rule,use Standarizationlk unless you have a specific reason to use an alternative.The standardization method have few side Effects and it is solved by RobustScaler method. The following demonstration show:"
      ],
      "metadata": {
        "id": "vdfcGoi7Kv7d"
      }
    },
    {
      "cell_type": "code",
      "source": [
        "#Print mean and standard Deviation\n",
        "print(\"Mean:\",round(standardized.mean()))\n",
        "print(\"Standard deviation:\", standardized.std()) # if mean =0 and standard deviation = 1 then the rescaling done is correct "
      ],
      "metadata": {
        "colab": {
          "base_uri": "https://localhost:8080/"
        },
        "id": "_SA4tQDLKqow",
        "outputId": "e83bac50-f035-4161-baca-364dd8a052f9"
      },
      "execution_count": null,
      "outputs": [
        {
          "output_type": "stream",
          "name": "stdout",
          "text": [
            "Mean: 0\n",
            "Standard deviation: 1.0\n"
          ]
        }
      ]
    },
    {
      "cell_type": "markdown",
      "source": [
        "If our data has significant outliers, it can negatively impact our standardization by affecting by the feature's **mean and variance**. In this scenario, it is often helpful to instead rescale the feature using the median and quartile range. "
      ],
      "metadata": {
        "id": "6h3z5sRrO9Mz"
      }
    },
    {
      "cell_type": "code",
      "source": [
        "#create Scaler\n",
        "robust_scaler= preprocessing.RobustScaler()\n",
        "#Transform feature\n",
        "robust_scaler.fit_transform(x)"
      ],
      "metadata": {
        "id": "6a-MhO_IO612",
        "colab": {
          "base_uri": "https://localhost:8080/"
        },
        "outputId": "05efe763-b3ae-41aa-8b9d-bfc5ad8a7d82"
      },
      "execution_count": 3,
      "outputs": [
        {
          "output_type": "execute_result",
          "data": {
            "text/plain": [
              "array([[-1.87387612],\n",
              "       [-0.875     ],\n",
              "       [ 0.        ],\n",
              "       [ 0.125     ],\n",
              "       [10.61488511]])"
            ]
          },
          "metadata": {},
          "execution_count": 3
        }
      ]
    },
    {
      "cell_type": "markdown",
      "source": [
        "##**Normalizing Observation**"
      ],
      "metadata": {
        "id": "9s6rSirDNQ6M"
      }
    },
    {
      "cell_type": "markdown",
      "source": [
        "It is mostly used in Text Classification.In Normalizing Observation we will rescale the feature values of observations to have **unit norm(a total lenght of 1)**"
      ],
      "metadata": {
        "id": "oc3z4K1LQfbQ"
      }
    },
    {
      "cell_type": "code",
      "source": [
        "import sklearn\n",
        "#use NORMALIZER with a norm argument\n",
        "#Load Libraries \n",
        "from sklearn.preprocessing import Normalizer\n",
        "#Create feature Matrix\n",
        "features = np.array([[0.5, 0.5], #their sum should be 1 after normalizing\n",
        "                    [1.1, 3.4],\n",
        "                    [1.5, 20.2],\n",
        "                    [1.63, 34.4],\n",
        "                    [10.9, 3.3]])\n",
        "#Create Normalizer\n",
        "normalizer = Normalizer(norm=\"l2\") # norm = l2 means it refers the euclidean distance # default the paramete is norm=\"l2\" \n",
        "#Transform feature matrix\n",
        "normalizer.transform(features)"
      ],
      "metadata": {
        "colab": {
          "base_uri": "https://localhost:8080/"
        },
        "id": "S-6t-mHgMXdq",
        "outputId": "13c0d029-3d03-450c-b749-1f9c73f8dc90"
      },
      "execution_count": 7,
      "outputs": [
        {
          "output_type": "execute_result",
          "data": {
            "text/plain": [
              "array([[0.70710678, 0.70710678],\n",
              "       [0.30782029, 0.95144452],\n",
              "       [0.07405353, 0.99725427],\n",
              "       [0.04733062, 0.99887928],\n",
              "       [0.95709822, 0.28976368]])"
            ]
          },
          "metadata": {},
          "execution_count": 7
        }
      ]
    },
    {
      "cell_type": "markdown",
      "source": [
        "Many rescaling methdod(eg.min-max scaling and standardization) operate on features: however, we can also rescale across individual observations. **Normalizer** rescales the values on individual observations to have unit norm(the sum of their lengths is 1).This type of rescaling is often used when we have many equivalent features(eg. text classification when every word or n-word group is feature). Normalizer provides three norm options with **Euclidean norm(often called L2)** being the default argument:Squre root of [x(2)]^2 +..[x(n)]^2 where x is an individual observation an xn is that observation of nth feature"
      ],
      "metadata": {
        "id": "JojUBCLaTCnX"
      }
    },
    {
      "cell_type": "code",
      "source": [
        "#Transform feature matrix\n",
        "features_l2_norm =Normalizer(norm=\"l2\").transform(features)\n",
        "#show feature matrix\n",
        "features_l2_norm"
      ],
      "metadata": {
        "colab": {
          "base_uri": "https://localhost:8080/"
        },
        "id": "IPLu3tKqSbTY",
        "outputId": "d5a96751-98d9-497d-a078-8993d388e67c"
      },
      "execution_count": 8,
      "outputs": [
        {
          "output_type": "execute_result",
          "data": {
            "text/plain": [
              "array([[0.70710678, 0.70710678],\n",
              "       [0.30782029, 0.95144452],\n",
              "       [0.07405353, 0.99725427],\n",
              "       [0.04733062, 0.99887928],\n",
              "       [0.95709822, 0.28976368]])"
            ]
          },
          "metadata": {},
          "execution_count": 8
        }
      ]
    },
    {
      "cell_type": "markdown",
      "source": [
        "Alternatively , we can specify **Manhattan** norm**(L1)**<br>\n",
        "Formula<br>\n",
        "summation of modulus of all features upto nth features"
      ],
      "metadata": {
        "id": "oLlQPgP2WtE_"
      }
    },
    {
      "cell_type": "code",
      "source": [
        "#Transform features matrix \n",
        "features_l1_norm = Normalizer(norm=\"l1\").transform(features)\n",
        "#show features matrix\n",
        "features_l1_norm"
      ],
      "metadata": {
        "colab": {
          "base_uri": "https://localhost:8080/"
        },
        "id": "wLcn93puWnWB",
        "outputId": "dd1cab14-18c9-4b0b-e37c-1f72cd537c17"
      },
      "execution_count": 11,
      "outputs": [
        {
          "output_type": "execute_result",
          "data": {
            "text/plain": [
              "array([[0.5       , 0.5       ],\n",
              "       [0.24444444, 0.75555556],\n",
              "       [0.06912442, 0.93087558],\n",
              "       [0.04524008, 0.95475992],\n",
              "       [0.76760563, 0.23239437]])"
            ]
          },
          "metadata": {},
          "execution_count": 11
        }
      ]
    },
    {
      "cell_type": "markdown",
      "source": [
        "Intuitively, L2 norm can be thought of as the distance between two points in New York for a bird(i.e., a straight line), while L1 can be thought of as the distance for human walking on the street(walk north one block,east one block, north one block, east one block, etc.), which is why it is called **\"Manhattan norm\"** or **\"Taxicab norm\"**. Practically, notice that norm=\"l1\" rescales on observation's values so they sum to 1, which can sometimes be a desirable quality:"
      ],
      "metadata": {
        "id": "6glAHq71ZBY7"
      }
    },
    {
      "cell_type": "code",
      "source": [
        "print(\"Sum of the first observation\\'s values:\",\n",
        "features_l1_norm[0,0]+ features_l1_norm[0,1])"
      ],
      "metadata": {
        "colab": {
          "base_uri": "https://localhost:8080/"
        },
        "id": "k-zr7hH8Y5sy",
        "outputId": "a8a9ea52-9e3f-4c76-f14c-860582360f3d"
      },
      "execution_count": 13,
      "outputs": [
        {
          "output_type": "stream",
          "name": "stdout",
          "text": [
            "Sum of the first observation's values: 1.0\n"
          ]
        }
      ]
    },
    {
      "cell_type": "markdown",
      "source": [
        "##**Generating Polynomial And Interaction Features**"
      ],
      "metadata": {
        "id": "ovrFUq7ubcTE"
      }
    },
    {
      "cell_type": "code",
      "source": [
        "#Load  Libraries \n",
        "import  numpy as np\n",
        "from sklearn.preprocessing import PolynomialFeatures"
      ],
      "metadata": {
        "id": "CYSAyvJ6aLUY"
      },
      "execution_count": 19,
      "outputs": []
    },
    {
      "cell_type": "code",
      "source": [
        "features = np.array([[2,3],\n",
        "                      [2,3],\n",
        "                      [2,3]])\n"
      ],
      "metadata": {
        "id": "YU2zGVFWep30"
      },
      "execution_count": 20,
      "outputs": []
    },
    {
      "cell_type": "code",
      "source": [
        "#Create PolynomialFeatures Object\n",
        "polynomial_interaction =PolynomialFeatures(degree=2, include_bias=False)\n",
        "#create Polynomial features\n",
        "polynomial_interaction.fit_transform(features)   # output willl be x1,x2,x1^2,x1*x2,x2^2"
      ],
      "metadata": {
        "colab": {
          "base_uri": "https://localhost:8080/"
        },
        "id": "iupMAvOBh4QB",
        "outputId": "ab3ff8a2-4caa-4699-f983-0748cf6670ef"
      },
      "execution_count": 21,
      "outputs": [
        {
          "output_type": "execute_result",
          "data": {
            "text/plain": [
              "array([[2., 3., 4., 6., 9.],\n",
              "       [2., 3., 4., 6., 9.],\n",
              "       [2., 3., 4., 6., 9.]])"
            ]
          },
          "metadata": {},
          "execution_count": 21
        }
      ]
    },
    {
      "cell_type": "markdown",
      "source": [
        "The degree parameter determines the maximum degree of the polynomial.For Example, degree=2 will create new features raised to the second power:x1,x2,x1^2,x2^2  while degree =3 will create new features raised to the second and third power: x1,x2,x1 2,x2 2,x1 3, x2 3 Furthermore , by default **PolynomialFeatures** includes **interaction features:x1x2**<br>\n",
        "We can restrict the features created to only interaction features by setting **interaction_only** to True"
      ],
      "metadata": {
        "id": "K5GOLQXbjWMr"
      }
    },
    {
      "cell_type": "code",
      "source": [
        "interaction =PolynomialFeatures(degree=2,\n",
        "interaction_only=True, include_bias=False)\n",
        "interaction.fit_transform(features)"
      ],
      "metadata": {
        "colab": {
          "base_uri": "https://localhost:8080/"
        },
        "id": "bxq_14o6jSCz",
        "outputId": "906b84ac-4587-4e96-dee5-f38f096e8e75"
      },
      "execution_count": 22,
      "outputs": [
        {
          "output_type": "execute_result",
          "data": {
            "text/plain": [
              "array([[2., 3., 6.],\n",
              "       [2., 3., 6.],\n",
              "       [2., 3., 6.]])"
            ]
          },
          "metadata": {},
          "execution_count": 22
        }
      ]
    },
    {
      "cell_type": "markdown",
      "source": [
        "##Explanation<br>\n",
        "Polynomial features are often created when we want to include the notion that there exists a nonlinear relationship between the features and the target.For example, we might suspect that the effect of an age on the probability of having a major medical condition is not constant over time but increases as age increases. We can encode that nonconstant effect in a feature , x, by generating that feature's higher-order forms (x2,x3,etc.).Additionaly, often we run into situations where the effect of one feature is dependent on another feature. A simple example would be if we were trying to predict whether or not our coffee was sweet and we had two features:1) whether or not the coffee was stirred and 2) if we added sugar. Individually, each feature does not predict coffee sweetness, but the combination of their effects does. That is, a coffee would only be sweet if the coffee had sugar and was stirred. The effects of each feature on the target(sweetness) are dependent on each other. We can encode that relationshiop by including an interaction features that is the product of the individual features"
      ],
      "metadata": {
        "id": "T6hWpN1QnhRz"
      }
    },
    {
      "cell_type": "markdown",
      "source": [
        "##**Transforming Features**<br>\n",
        "This is Custom function for rescaling"
      ],
      "metadata": {
        "id": "pMHnuvgptI-g"
      }
    },
    {
      "cell_type": "code",
      "source": [
        "#Load Libraries\n",
        "import numpy as np\n",
        "from sklearn.preprocessing import FunctionTransformer\n",
        "# Create feature matrix\n",
        "features = np.array([[2, 3],\n",
        "                    [2, 3],\n",
        "                    [2, 3]])\n",
        "#Define a simple function\n",
        "def add_ten(x):\n",
        "  return x+10\n",
        "\n",
        "#create transformer\n",
        "ten_transformer =FunctionTransformer(add_ten)\n",
        "#Transform feature matrix\n",
        "ten_transformer.transform(features)"
      ],
      "metadata": {
        "colab": {
          "base_uri": "https://localhost:8080/"
        },
        "id": "Hh_2eF3tsDic",
        "outputId": "5f69f813-a425-4c5d-ec61-affca0fe3d62"
      },
      "execution_count": 1,
      "outputs": [
        {
          "output_type": "execute_result",
          "data": {
            "text/plain": [
              "array([[12, 13],\n",
              "       [12, 13],\n",
              "       [12, 13]])"
            ]
          },
          "metadata": {},
          "execution_count": 1
        }
      ]
    },
    {
      "cell_type": "markdown",
      "source": [
        "We can create the same transformation in pandas using apply"
      ],
      "metadata": {
        "id": "opXqx6ul4CPl"
      }
    },
    {
      "cell_type": "code",
      "source": [
        "#Load Library\n",
        "import pandas as pd"
      ],
      "metadata": {
        "id": "FRFBER-z4NjQ"
      },
      "execution_count": 4,
      "outputs": []
    },
    {
      "cell_type": "code",
      "source": [
        "#Create DataFrame\n",
        "df = pd.DataFrame(features, columns=[\"feature_1\",\"feature_2\"])\n",
        "#Apply function\n",
        "df.apply(add_ten)"
      ],
      "metadata": {
        "colab": {
          "base_uri": "https://localhost:8080/",
          "height": 143
        },
        "id": "6fPb6JFm4Qat",
        "outputId": "a58ff64e-bfb5-483c-c6de-9d2a931f1eef"
      },
      "execution_count": 7,
      "outputs": [
        {
          "output_type": "execute_result",
          "data": {
            "text/html": [
              "\n",
              "  <div id=\"df-a9836563-7994-4bf2-b9b2-f205f1d50eaf\">\n",
              "    <div class=\"colab-df-container\">\n",
              "      <div>\n",
              "<style scoped>\n",
              "    .dataframe tbody tr th:only-of-type {\n",
              "        vertical-align: middle;\n",
              "    }\n",
              "\n",
              "    .dataframe tbody tr th {\n",
              "        vertical-align: top;\n",
              "    }\n",
              "\n",
              "    .dataframe thead th {\n",
              "        text-align: right;\n",
              "    }\n",
              "</style>\n",
              "<table border=\"1\" class=\"dataframe\">\n",
              "  <thead>\n",
              "    <tr style=\"text-align: right;\">\n",
              "      <th></th>\n",
              "      <th>feature_1</th>\n",
              "      <th>feature_2</th>\n",
              "    </tr>\n",
              "  </thead>\n",
              "  <tbody>\n",
              "    <tr>\n",
              "      <th>0</th>\n",
              "      <td>12</td>\n",
              "      <td>13</td>\n",
              "    </tr>\n",
              "    <tr>\n",
              "      <th>1</th>\n",
              "      <td>12</td>\n",
              "      <td>13</td>\n",
              "    </tr>\n",
              "    <tr>\n",
              "      <th>2</th>\n",
              "      <td>12</td>\n",
              "      <td>13</td>\n",
              "    </tr>\n",
              "  </tbody>\n",
              "</table>\n",
              "</div>\n",
              "      <button class=\"colab-df-convert\" onclick=\"convertToInteractive('df-a9836563-7994-4bf2-b9b2-f205f1d50eaf')\"\n",
              "              title=\"Convert this dataframe to an interactive table.\"\n",
              "              style=\"display:none;\">\n",
              "        \n",
              "  <svg xmlns=\"http://www.w3.org/2000/svg\" height=\"24px\"viewBox=\"0 0 24 24\"\n",
              "       width=\"24px\">\n",
              "    <path d=\"M0 0h24v24H0V0z\" fill=\"none\"/>\n",
              "    <path d=\"M18.56 5.44l.94 2.06.94-2.06 2.06-.94-2.06-.94-.94-2.06-.94 2.06-2.06.94zm-11 1L8.5 8.5l.94-2.06 2.06-.94-2.06-.94L8.5 2.5l-.94 2.06-2.06.94zm10 10l.94 2.06.94-2.06 2.06-.94-2.06-.94-.94-2.06-.94 2.06-2.06.94z\"/><path d=\"M17.41 7.96l-1.37-1.37c-.4-.4-.92-.59-1.43-.59-.52 0-1.04.2-1.43.59L10.3 9.45l-7.72 7.72c-.78.78-.78 2.05 0 2.83L4 21.41c.39.39.9.59 1.41.59.51 0 1.02-.2 1.41-.59l7.78-7.78 2.81-2.81c.8-.78.8-2.07 0-2.86zM5.41 20L4 18.59l7.72-7.72 1.47 1.35L5.41 20z\"/>\n",
              "  </svg>\n",
              "      </button>\n",
              "      \n",
              "  <style>\n",
              "    .colab-df-container {\n",
              "      display:flex;\n",
              "      flex-wrap:wrap;\n",
              "      gap: 12px;\n",
              "    }\n",
              "\n",
              "    .colab-df-convert {\n",
              "      background-color: #E8F0FE;\n",
              "      border: none;\n",
              "      border-radius: 50%;\n",
              "      cursor: pointer;\n",
              "      display: none;\n",
              "      fill: #1967D2;\n",
              "      height: 32px;\n",
              "      padding: 0 0 0 0;\n",
              "      width: 32px;\n",
              "    }\n",
              "\n",
              "    .colab-df-convert:hover {\n",
              "      background-color: #E2EBFA;\n",
              "      box-shadow: 0px 1px 2px rgba(60, 64, 67, 0.3), 0px 1px 3px 1px rgba(60, 64, 67, 0.15);\n",
              "      fill: #174EA6;\n",
              "    }\n",
              "\n",
              "    [theme=dark] .colab-df-convert {\n",
              "      background-color: #3B4455;\n",
              "      fill: #D2E3FC;\n",
              "    }\n",
              "\n",
              "    [theme=dark] .colab-df-convert:hover {\n",
              "      background-color: #434B5C;\n",
              "      box-shadow: 0px 1px 3px 1px rgba(0, 0, 0, 0.15);\n",
              "      filter: drop-shadow(0px 1px 2px rgba(0, 0, 0, 0.3));\n",
              "      fill: #FFFFFF;\n",
              "    }\n",
              "  </style>\n",
              "\n",
              "      <script>\n",
              "        const buttonEl =\n",
              "          document.querySelector('#df-a9836563-7994-4bf2-b9b2-f205f1d50eaf button.colab-df-convert');\n",
              "        buttonEl.style.display =\n",
              "          google.colab.kernel.accessAllowed ? 'block' : 'none';\n",
              "\n",
              "        async function convertToInteractive(key) {\n",
              "          const element = document.querySelector('#df-a9836563-7994-4bf2-b9b2-f205f1d50eaf');\n",
              "          const dataTable =\n",
              "            await google.colab.kernel.invokeFunction('convertToInteractive',\n",
              "                                                     [key], {});\n",
              "          if (!dataTable) return;\n",
              "\n",
              "          const docLinkHtml = 'Like what you see? Visit the ' +\n",
              "            '<a target=\"_blank\" href=https://colab.research.google.com/notebooks/data_table.ipynb>data table notebook</a>'\n",
              "            + ' to learn more about interactive tables.';\n",
              "          element.innerHTML = '';\n",
              "          dataTable['output_type'] = 'display_data';\n",
              "          await google.colab.output.renderOutput(dataTable, element);\n",
              "          const docLink = document.createElement('div');\n",
              "          docLink.innerHTML = docLinkHtml;\n",
              "          element.appendChild(docLink);\n",
              "        }\n",
              "      </script>\n",
              "    </div>\n",
              "  </div>\n",
              "  "
            ],
            "text/plain": [
              "   feature_1  feature_2\n",
              "0         12         13\n",
              "1         12         13\n",
              "2         12         13"
            ]
          },
          "metadata": {},
          "execution_count": 7
        }
      ]
    },
    {
      "cell_type": "markdown",
      "source": [
        "##**Detecting Outliers**"
      ],
      "metadata": {
        "id": "RGYHBh5A5J_V"
      }
    },
    {
      "cell_type": "markdown",
      "source": [
        "Outilers are the abnormally or most deviated values in the dataset. A common method is to assume the data is normally distributed and based on that assumption \"draw\" an ellipse around the data, classifying any observation inside the ellipse as an inlier(labeled as 1) and any observation outside the ellipse as an outlier(labeled as -1) "
      ],
      "metadata": {
        "id": "5zISj65R8sRp"
      }
    },
    {
      "cell_type": "code",
      "source": [
        "#Load libraries\n",
        "import numpy as np\n",
        "from sklearn.covariance import EllipticEnvelope\n",
        "from sklearn.datasets import make_blobs\n",
        "#Create simulated data\n",
        "features,_ =make_blobs(n_samples =10,n_features=2, centers=1, random_state=1)\n",
        "#Replace the firest observation's values with extreme values\n",
        "features[0,0] = 10000\n",
        "features[0,1] = 10000\n",
        "outlier_detector = EllipticEnvelope(contamination=.1)\n",
        "#Fit detector\n",
        "outlier_detector.fit(features)\n",
        "#Predict outliers\n",
        "outlier_detector.predict(features)"
      ],
      "metadata": {
        "colab": {
          "base_uri": "https://localhost:8080/"
        },
        "id": "NfzR3pef4mZg",
        "outputId": "0880b0d6-4d02-4060-d857-b02d8c0e9cf6"
      },
      "execution_count": 8,
      "outputs": [
        {
          "output_type": "execute_result",
          "data": {
            "text/plain": [
              "array([-1,  1,  1,  1,  1,  1,  1,  1,  1,  1])"
            ]
          },
          "metadata": {},
          "execution_count": 8
        }
      ]
    },
    {
      "cell_type": "code",
      "source": [
        "features # first element in the array is outlier which we added"
      ],
      "metadata": {
        "colab": {
          "base_uri": "https://localhost:8080/"
        },
        "id": "pDnVemds-jpk",
        "outputId": "a59ae3bf-645e-42f7-8fe2-27d909b6b7c6"
      },
      "execution_count": 9,
      "outputs": [
        {
          "output_type": "execute_result",
          "data": {
            "text/plain": [
              "array([[ 1.00000000e+04,  1.00000000e+04],\n",
              "       [-2.76017908e+00,  5.55121358e+00],\n",
              "       [-1.61734616e+00,  4.98930508e+00],\n",
              "       [-5.25790464e-01,  3.30659860e+00],\n",
              "       [ 8.52518583e-02,  3.64528297e+00],\n",
              "       [-7.94152277e-01,  2.10495117e+00],\n",
              "       [-1.34052081e+00,  4.15711949e+00],\n",
              "       [-1.98197711e+00,  4.02243551e+00],\n",
              "       [-2.18773166e+00,  3.33352125e+00],\n",
              "       [-1.97451969e-01,  2.34634916e+00]])"
            ]
          },
          "metadata": {},
          "execution_count": 9
        }
      ]
    },
    {
      "cell_type": "markdown",
      "source": [
        "A major limitation of this approach is the need to specify a contamination parameter, which is the proportion of observations that are outliers-a value that we dont know. Think of contamination as our estimate of the cleanliness of our data. If we expect our data to have few outliers, we can set contamination to something small. However, if we believe that the data is very likely to have outliers, we can set it to a higher value. Instead of looking at observations as a whole, we can instead look at individual features and identify extreme values in those features using **InterQuartile Range (IQR)**"
      ],
      "metadata": {
        "id": "18MIlRNR-vqv"
      }
    },
    {
      "cell_type": "code",
      "source": [
        "#Create one feature\n",
        "# Create a function to return index of outliers\n",
        "def indicies_of_outliers(x):\n",
        "  q1,q3 =np.percentile(x,[25,75])\n",
        "  iqr =q3-q1\n",
        "  lower_bound= q1-(iqr*1.5)\n",
        "  upper_bound =q3+(iqr *1.5)\n",
        "  return np.where((x>upper_bound)| (x<lower_bound))\n",
        "#Run function\n",
        "indicies_of_outliers(features)"
      ],
      "metadata": {
        "colab": {
          "base_uri": "https://localhost:8080/"
        },
        "id": "OiFFtKUG-lgg",
        "outputId": "f56491c5-4dfa-44cf-895d-3d6ea8b15895"
      },
      "execution_count": 11,
      "outputs": [
        {
          "output_type": "execute_result",
          "data": {
            "text/plain": [
              "(array([0, 0]), array([0, 1]))"
            ]
          },
          "metadata": {},
          "execution_count": 11
        }
      ]
    },
    {
      "cell_type": "markdown",
      "source": [
        "IQR is the difference between the first and third quartile of a set of data. You can think of IQR as the spread of the bulk of the data, with outliers being observations far from the main concentration of data. Outliers are commonly defined as any value 1.5 IQRs less than the first quartile or 1.5 IQRs greater than the third quartile."
      ],
      "metadata": {
        "id": "WzOi_QGaAsN3"
      }
    },
    {
      "cell_type": "markdown",
      "source": [
        "##**Handling Outliers**"
      ],
      "metadata": {
        "id": "TVBRW-LgBd_T"
      }
    },
    {
      "cell_type": "markdown",
      "source": [
        "Typically we have three strategies we can use to handle outliers"
      ],
      "metadata": {
        "id": "EKebajk0ByRM"
      }
    },
    {
      "cell_type": "markdown",
      "source": [
        "First, we can drop them"
      ],
      "metadata": {
        "id": "Kb9Tq16XDPcQ"
      }
    },
    {
      "cell_type": "code",
      "source": [
        "#Load Library\n",
        "import pandas as pd\n",
        "#Create DataFrame \n",
        "houses =pd.DataFrame()\n",
        "houses['Price']=[534433,392333,293222,4322032]\n",
        "houses['Square_Feet'] =[1500,2500,1500,48000]\n",
        "houses['Bathrooms']=[2,3.5,2,116]\n",
        "#Filter Observations\n",
        "houses[houses['Bathrooms']<20]"
      ],
      "metadata": {
        "colab": {
          "base_uri": "https://localhost:8080/",
          "height": 143
        },
        "id": "XSJLlYkRBxnc",
        "outputId": "3b2af2da-63df-4389-d8e2-6918bc5923c2"
      },
      "execution_count": 12,
      "outputs": [
        {
          "output_type": "execute_result",
          "data": {
            "text/html": [
              "\n",
              "  <div id=\"df-033b55b1-2465-4d5e-b627-31b8c418a2f4\">\n",
              "    <div class=\"colab-df-container\">\n",
              "      <div>\n",
              "<style scoped>\n",
              "    .dataframe tbody tr th:only-of-type {\n",
              "        vertical-align: middle;\n",
              "    }\n",
              "\n",
              "    .dataframe tbody tr th {\n",
              "        vertical-align: top;\n",
              "    }\n",
              "\n",
              "    .dataframe thead th {\n",
              "        text-align: right;\n",
              "    }\n",
              "</style>\n",
              "<table border=\"1\" class=\"dataframe\">\n",
              "  <thead>\n",
              "    <tr style=\"text-align: right;\">\n",
              "      <th></th>\n",
              "      <th>Price</th>\n",
              "      <th>Square_Feet</th>\n",
              "      <th>Bathrooms</th>\n",
              "    </tr>\n",
              "  </thead>\n",
              "  <tbody>\n",
              "    <tr>\n",
              "      <th>0</th>\n",
              "      <td>534433</td>\n",
              "      <td>1500</td>\n",
              "      <td>2.0</td>\n",
              "    </tr>\n",
              "    <tr>\n",
              "      <th>1</th>\n",
              "      <td>392333</td>\n",
              "      <td>2500</td>\n",
              "      <td>3.5</td>\n",
              "    </tr>\n",
              "    <tr>\n",
              "      <th>2</th>\n",
              "      <td>293222</td>\n",
              "      <td>1500</td>\n",
              "      <td>2.0</td>\n",
              "    </tr>\n",
              "  </tbody>\n",
              "</table>\n",
              "</div>\n",
              "      <button class=\"colab-df-convert\" onclick=\"convertToInteractive('df-033b55b1-2465-4d5e-b627-31b8c418a2f4')\"\n",
              "              title=\"Convert this dataframe to an interactive table.\"\n",
              "              style=\"display:none;\">\n",
              "        \n",
              "  <svg xmlns=\"http://www.w3.org/2000/svg\" height=\"24px\"viewBox=\"0 0 24 24\"\n",
              "       width=\"24px\">\n",
              "    <path d=\"M0 0h24v24H0V0z\" fill=\"none\"/>\n",
              "    <path d=\"M18.56 5.44l.94 2.06.94-2.06 2.06-.94-2.06-.94-.94-2.06-.94 2.06-2.06.94zm-11 1L8.5 8.5l.94-2.06 2.06-.94-2.06-.94L8.5 2.5l-.94 2.06-2.06.94zm10 10l.94 2.06.94-2.06 2.06-.94-2.06-.94-.94-2.06-.94 2.06-2.06.94z\"/><path d=\"M17.41 7.96l-1.37-1.37c-.4-.4-.92-.59-1.43-.59-.52 0-1.04.2-1.43.59L10.3 9.45l-7.72 7.72c-.78.78-.78 2.05 0 2.83L4 21.41c.39.39.9.59 1.41.59.51 0 1.02-.2 1.41-.59l7.78-7.78 2.81-2.81c.8-.78.8-2.07 0-2.86zM5.41 20L4 18.59l7.72-7.72 1.47 1.35L5.41 20z\"/>\n",
              "  </svg>\n",
              "      </button>\n",
              "      \n",
              "  <style>\n",
              "    .colab-df-container {\n",
              "      display:flex;\n",
              "      flex-wrap:wrap;\n",
              "      gap: 12px;\n",
              "    }\n",
              "\n",
              "    .colab-df-convert {\n",
              "      background-color: #E8F0FE;\n",
              "      border: none;\n",
              "      border-radius: 50%;\n",
              "      cursor: pointer;\n",
              "      display: none;\n",
              "      fill: #1967D2;\n",
              "      height: 32px;\n",
              "      padding: 0 0 0 0;\n",
              "      width: 32px;\n",
              "    }\n",
              "\n",
              "    .colab-df-convert:hover {\n",
              "      background-color: #E2EBFA;\n",
              "      box-shadow: 0px 1px 2px rgba(60, 64, 67, 0.3), 0px 1px 3px 1px rgba(60, 64, 67, 0.15);\n",
              "      fill: #174EA6;\n",
              "    }\n",
              "\n",
              "    [theme=dark] .colab-df-convert {\n",
              "      background-color: #3B4455;\n",
              "      fill: #D2E3FC;\n",
              "    }\n",
              "\n",
              "    [theme=dark] .colab-df-convert:hover {\n",
              "      background-color: #434B5C;\n",
              "      box-shadow: 0px 1px 3px 1px rgba(0, 0, 0, 0.15);\n",
              "      filter: drop-shadow(0px 1px 2px rgba(0, 0, 0, 0.3));\n",
              "      fill: #FFFFFF;\n",
              "    }\n",
              "  </style>\n",
              "\n",
              "      <script>\n",
              "        const buttonEl =\n",
              "          document.querySelector('#df-033b55b1-2465-4d5e-b627-31b8c418a2f4 button.colab-df-convert');\n",
              "        buttonEl.style.display =\n",
              "          google.colab.kernel.accessAllowed ? 'block' : 'none';\n",
              "\n",
              "        async function convertToInteractive(key) {\n",
              "          const element = document.querySelector('#df-033b55b1-2465-4d5e-b627-31b8c418a2f4');\n",
              "          const dataTable =\n",
              "            await google.colab.kernel.invokeFunction('convertToInteractive',\n",
              "                                                     [key], {});\n",
              "          if (!dataTable) return;\n",
              "\n",
              "          const docLinkHtml = 'Like what you see? Visit the ' +\n",
              "            '<a target=\"_blank\" href=https://colab.research.google.com/notebooks/data_table.ipynb>data table notebook</a>'\n",
              "            + ' to learn more about interactive tables.';\n",
              "          element.innerHTML = '';\n",
              "          dataTable['output_type'] = 'display_data';\n",
              "          await google.colab.output.renderOutput(dataTable, element);\n",
              "          const docLink = document.createElement('div');\n",
              "          docLink.innerHTML = docLinkHtml;\n",
              "          element.appendChild(docLink);\n",
              "        }\n",
              "      </script>\n",
              "    </div>\n",
              "  </div>\n",
              "  "
            ],
            "text/plain": [
              "    Price  Square_Feet  Bathrooms\n",
              "0  534433         1500        2.0\n",
              "1  392333         2500        3.5\n",
              "2  293222         1500        2.0"
            ]
          },
          "metadata": {},
          "execution_count": 12
        }
      ]
    },
    {
      "cell_type": "markdown",
      "source": [
        "Secondly, we can mark them as outliers and include it as a feature"
      ],
      "metadata": {
        "id": "m4JNE1UwJqMJ"
      }
    },
    {
      "cell_type": "code",
      "source": [
        "#Load Library\n",
        "import numpy as np\n",
        "#create feature based on boolean condition\n",
        "houses['Outliers']=np.where(houses['Bathrooms']<20,0,1)\n",
        "#show data\n",
        "houses"
      ],
      "metadata": {
        "colab": {
          "base_uri": "https://localhost:8080/",
          "height": 175
        },
        "id": "WUn03Hu7Job0",
        "outputId": "9fc4f3dc-170a-4999-ee54-467f9364a9b5"
      },
      "execution_count": 14,
      "outputs": [
        {
          "output_type": "execute_result",
          "data": {
            "text/html": [
              "\n",
              "  <div id=\"df-748b44ed-008c-4d07-a600-e68ec7330f2e\">\n",
              "    <div class=\"colab-df-container\">\n",
              "      <div>\n",
              "<style scoped>\n",
              "    .dataframe tbody tr th:only-of-type {\n",
              "        vertical-align: middle;\n",
              "    }\n",
              "\n",
              "    .dataframe tbody tr th {\n",
              "        vertical-align: top;\n",
              "    }\n",
              "\n",
              "    .dataframe thead th {\n",
              "        text-align: right;\n",
              "    }\n",
              "</style>\n",
              "<table border=\"1\" class=\"dataframe\">\n",
              "  <thead>\n",
              "    <tr style=\"text-align: right;\">\n",
              "      <th></th>\n",
              "      <th>Price</th>\n",
              "      <th>Square_Feet</th>\n",
              "      <th>Bathrooms</th>\n",
              "      <th>Outliers</th>\n",
              "    </tr>\n",
              "  </thead>\n",
              "  <tbody>\n",
              "    <tr>\n",
              "      <th>0</th>\n",
              "      <td>534433</td>\n",
              "      <td>1500</td>\n",
              "      <td>2.0</td>\n",
              "      <td>0</td>\n",
              "    </tr>\n",
              "    <tr>\n",
              "      <th>1</th>\n",
              "      <td>392333</td>\n",
              "      <td>2500</td>\n",
              "      <td>3.5</td>\n",
              "      <td>0</td>\n",
              "    </tr>\n",
              "    <tr>\n",
              "      <th>2</th>\n",
              "      <td>293222</td>\n",
              "      <td>1500</td>\n",
              "      <td>2.0</td>\n",
              "      <td>0</td>\n",
              "    </tr>\n",
              "    <tr>\n",
              "      <th>3</th>\n",
              "      <td>4322032</td>\n",
              "      <td>48000</td>\n",
              "      <td>116.0</td>\n",
              "      <td>1</td>\n",
              "    </tr>\n",
              "  </tbody>\n",
              "</table>\n",
              "</div>\n",
              "      <button class=\"colab-df-convert\" onclick=\"convertToInteractive('df-748b44ed-008c-4d07-a600-e68ec7330f2e')\"\n",
              "              title=\"Convert this dataframe to an interactive table.\"\n",
              "              style=\"display:none;\">\n",
              "        \n",
              "  <svg xmlns=\"http://www.w3.org/2000/svg\" height=\"24px\"viewBox=\"0 0 24 24\"\n",
              "       width=\"24px\">\n",
              "    <path d=\"M0 0h24v24H0V0z\" fill=\"none\"/>\n",
              "    <path d=\"M18.56 5.44l.94 2.06.94-2.06 2.06-.94-2.06-.94-.94-2.06-.94 2.06-2.06.94zm-11 1L8.5 8.5l.94-2.06 2.06-.94-2.06-.94L8.5 2.5l-.94 2.06-2.06.94zm10 10l.94 2.06.94-2.06 2.06-.94-2.06-.94-.94-2.06-.94 2.06-2.06.94z\"/><path d=\"M17.41 7.96l-1.37-1.37c-.4-.4-.92-.59-1.43-.59-.52 0-1.04.2-1.43.59L10.3 9.45l-7.72 7.72c-.78.78-.78 2.05 0 2.83L4 21.41c.39.39.9.59 1.41.59.51 0 1.02-.2 1.41-.59l7.78-7.78 2.81-2.81c.8-.78.8-2.07 0-2.86zM5.41 20L4 18.59l7.72-7.72 1.47 1.35L5.41 20z\"/>\n",
              "  </svg>\n",
              "      </button>\n",
              "      \n",
              "  <style>\n",
              "    .colab-df-container {\n",
              "      display:flex;\n",
              "      flex-wrap:wrap;\n",
              "      gap: 12px;\n",
              "    }\n",
              "\n",
              "    .colab-df-convert {\n",
              "      background-color: #E8F0FE;\n",
              "      border: none;\n",
              "      border-radius: 50%;\n",
              "      cursor: pointer;\n",
              "      display: none;\n",
              "      fill: #1967D2;\n",
              "      height: 32px;\n",
              "      padding: 0 0 0 0;\n",
              "      width: 32px;\n",
              "    }\n",
              "\n",
              "    .colab-df-convert:hover {\n",
              "      background-color: #E2EBFA;\n",
              "      box-shadow: 0px 1px 2px rgba(60, 64, 67, 0.3), 0px 1px 3px 1px rgba(60, 64, 67, 0.15);\n",
              "      fill: #174EA6;\n",
              "    }\n",
              "\n",
              "    [theme=dark] .colab-df-convert {\n",
              "      background-color: #3B4455;\n",
              "      fill: #D2E3FC;\n",
              "    }\n",
              "\n",
              "    [theme=dark] .colab-df-convert:hover {\n",
              "      background-color: #434B5C;\n",
              "      box-shadow: 0px 1px 3px 1px rgba(0, 0, 0, 0.15);\n",
              "      filter: drop-shadow(0px 1px 2px rgba(0, 0, 0, 0.3));\n",
              "      fill: #FFFFFF;\n",
              "    }\n",
              "  </style>\n",
              "\n",
              "      <script>\n",
              "        const buttonEl =\n",
              "          document.querySelector('#df-748b44ed-008c-4d07-a600-e68ec7330f2e button.colab-df-convert');\n",
              "        buttonEl.style.display =\n",
              "          google.colab.kernel.accessAllowed ? 'block' : 'none';\n",
              "\n",
              "        async function convertToInteractive(key) {\n",
              "          const element = document.querySelector('#df-748b44ed-008c-4d07-a600-e68ec7330f2e');\n",
              "          const dataTable =\n",
              "            await google.colab.kernel.invokeFunction('convertToInteractive',\n",
              "                                                     [key], {});\n",
              "          if (!dataTable) return;\n",
              "\n",
              "          const docLinkHtml = 'Like what you see? Visit the ' +\n",
              "            '<a target=\"_blank\" href=https://colab.research.google.com/notebooks/data_table.ipynb>data table notebook</a>'\n",
              "            + ' to learn more about interactive tables.';\n",
              "          element.innerHTML = '';\n",
              "          dataTable['output_type'] = 'display_data';\n",
              "          await google.colab.output.renderOutput(dataTable, element);\n",
              "          const docLink = document.createElement('div');\n",
              "          docLink.innerHTML = docLinkHtml;\n",
              "          element.appendChild(docLink);\n",
              "        }\n",
              "      </script>\n",
              "    </div>\n",
              "  </div>\n",
              "  "
            ],
            "text/plain": [
              "     Price  Square_Feet  Bathrooms  Outliers\n",
              "0   534433         1500        2.0         0\n",
              "1   392333         2500        3.5         0\n",
              "2   293222         1500        2.0         0\n",
              "3  4322032        48000      116.0         1"
            ]
          },
          "metadata": {},
          "execution_count": 14
        }
      ]
    },
    {
      "cell_type": "markdown",
      "source": [
        "Finally, we can transform the feature to **Dampen the effect** of the outlier"
      ],
      "metadata": {
        "id": "aD73jM_oKNhQ"
      }
    },
    {
      "cell_type": "code",
      "source": [
        "#Log feature\n",
        "houses['Log_of_Square_Feet'] =[np.log(x) for x in houses['Square_Feet']]\n",
        "#show data\n",
        "houses\n"
      ],
      "metadata": {
        "colab": {
          "base_uri": "https://localhost:8080/",
          "height": 175
        },
        "id": "hn-gQp3bKBth",
        "outputId": "d1a6dd46-798c-4961-ecfd-977648dba6e0"
      },
      "execution_count": 15,
      "outputs": [
        {
          "output_type": "execute_result",
          "data": {
            "text/html": [
              "\n",
              "  <div id=\"df-461be1f6-8c9f-4021-b528-3dbd33d21e50\">\n",
              "    <div class=\"colab-df-container\">\n",
              "      <div>\n",
              "<style scoped>\n",
              "    .dataframe tbody tr th:only-of-type {\n",
              "        vertical-align: middle;\n",
              "    }\n",
              "\n",
              "    .dataframe tbody tr th {\n",
              "        vertical-align: top;\n",
              "    }\n",
              "\n",
              "    .dataframe thead th {\n",
              "        text-align: right;\n",
              "    }\n",
              "</style>\n",
              "<table border=\"1\" class=\"dataframe\">\n",
              "  <thead>\n",
              "    <tr style=\"text-align: right;\">\n",
              "      <th></th>\n",
              "      <th>Price</th>\n",
              "      <th>Square_Feet</th>\n",
              "      <th>Bathrooms</th>\n",
              "      <th>Outliers</th>\n",
              "      <th>Log_of_Square_Feet</th>\n",
              "    </tr>\n",
              "  </thead>\n",
              "  <tbody>\n",
              "    <tr>\n",
              "      <th>0</th>\n",
              "      <td>534433</td>\n",
              "      <td>1500</td>\n",
              "      <td>2.0</td>\n",
              "      <td>0</td>\n",
              "      <td>7.313220</td>\n",
              "    </tr>\n",
              "    <tr>\n",
              "      <th>1</th>\n",
              "      <td>392333</td>\n",
              "      <td>2500</td>\n",
              "      <td>3.5</td>\n",
              "      <td>0</td>\n",
              "      <td>7.824046</td>\n",
              "    </tr>\n",
              "    <tr>\n",
              "      <th>2</th>\n",
              "      <td>293222</td>\n",
              "      <td>1500</td>\n",
              "      <td>2.0</td>\n",
              "      <td>0</td>\n",
              "      <td>7.313220</td>\n",
              "    </tr>\n",
              "    <tr>\n",
              "      <th>3</th>\n",
              "      <td>4322032</td>\n",
              "      <td>48000</td>\n",
              "      <td>116.0</td>\n",
              "      <td>1</td>\n",
              "      <td>10.778956</td>\n",
              "    </tr>\n",
              "  </tbody>\n",
              "</table>\n",
              "</div>\n",
              "      <button class=\"colab-df-convert\" onclick=\"convertToInteractive('df-461be1f6-8c9f-4021-b528-3dbd33d21e50')\"\n",
              "              title=\"Convert this dataframe to an interactive table.\"\n",
              "              style=\"display:none;\">\n",
              "        \n",
              "  <svg xmlns=\"http://www.w3.org/2000/svg\" height=\"24px\"viewBox=\"0 0 24 24\"\n",
              "       width=\"24px\">\n",
              "    <path d=\"M0 0h24v24H0V0z\" fill=\"none\"/>\n",
              "    <path d=\"M18.56 5.44l.94 2.06.94-2.06 2.06-.94-2.06-.94-.94-2.06-.94 2.06-2.06.94zm-11 1L8.5 8.5l.94-2.06 2.06-.94-2.06-.94L8.5 2.5l-.94 2.06-2.06.94zm10 10l.94 2.06.94-2.06 2.06-.94-2.06-.94-.94-2.06-.94 2.06-2.06.94z\"/><path d=\"M17.41 7.96l-1.37-1.37c-.4-.4-.92-.59-1.43-.59-.52 0-1.04.2-1.43.59L10.3 9.45l-7.72 7.72c-.78.78-.78 2.05 0 2.83L4 21.41c.39.39.9.59 1.41.59.51 0 1.02-.2 1.41-.59l7.78-7.78 2.81-2.81c.8-.78.8-2.07 0-2.86zM5.41 20L4 18.59l7.72-7.72 1.47 1.35L5.41 20z\"/>\n",
              "  </svg>\n",
              "      </button>\n",
              "      \n",
              "  <style>\n",
              "    .colab-df-container {\n",
              "      display:flex;\n",
              "      flex-wrap:wrap;\n",
              "      gap: 12px;\n",
              "    }\n",
              "\n",
              "    .colab-df-convert {\n",
              "      background-color: #E8F0FE;\n",
              "      border: none;\n",
              "      border-radius: 50%;\n",
              "      cursor: pointer;\n",
              "      display: none;\n",
              "      fill: #1967D2;\n",
              "      height: 32px;\n",
              "      padding: 0 0 0 0;\n",
              "      width: 32px;\n",
              "    }\n",
              "\n",
              "    .colab-df-convert:hover {\n",
              "      background-color: #E2EBFA;\n",
              "      box-shadow: 0px 1px 2px rgba(60, 64, 67, 0.3), 0px 1px 3px 1px rgba(60, 64, 67, 0.15);\n",
              "      fill: #174EA6;\n",
              "    }\n",
              "\n",
              "    [theme=dark] .colab-df-convert {\n",
              "      background-color: #3B4455;\n",
              "      fill: #D2E3FC;\n",
              "    }\n",
              "\n",
              "    [theme=dark] .colab-df-convert:hover {\n",
              "      background-color: #434B5C;\n",
              "      box-shadow: 0px 1px 3px 1px rgba(0, 0, 0, 0.15);\n",
              "      filter: drop-shadow(0px 1px 2px rgba(0, 0, 0, 0.3));\n",
              "      fill: #FFFFFF;\n",
              "    }\n",
              "  </style>\n",
              "\n",
              "      <script>\n",
              "        const buttonEl =\n",
              "          document.querySelector('#df-461be1f6-8c9f-4021-b528-3dbd33d21e50 button.colab-df-convert');\n",
              "        buttonEl.style.display =\n",
              "          google.colab.kernel.accessAllowed ? 'block' : 'none';\n",
              "\n",
              "        async function convertToInteractive(key) {\n",
              "          const element = document.querySelector('#df-461be1f6-8c9f-4021-b528-3dbd33d21e50');\n",
              "          const dataTable =\n",
              "            await google.colab.kernel.invokeFunction('convertToInteractive',\n",
              "                                                     [key], {});\n",
              "          if (!dataTable) return;\n",
              "\n",
              "          const docLinkHtml = 'Like what you see? Visit the ' +\n",
              "            '<a target=\"_blank\" href=https://colab.research.google.com/notebooks/data_table.ipynb>data table notebook</a>'\n",
              "            + ' to learn more about interactive tables.';\n",
              "          element.innerHTML = '';\n",
              "          dataTable['output_type'] = 'display_data';\n",
              "          await google.colab.output.renderOutput(dataTable, element);\n",
              "          const docLink = document.createElement('div');\n",
              "          docLink.innerHTML = docLinkHtml;\n",
              "          element.appendChild(docLink);\n",
              "        }\n",
              "      </script>\n",
              "    </div>\n",
              "  </div>\n",
              "  "
            ],
            "text/plain": [
              "     Price  Square_Feet  Bathrooms  Outliers  Log_of_Square_Feet\n",
              "0   534433         1500        2.0         0            7.313220\n",
              "1   392333         2500        3.5         0            7.824046\n",
              "2   293222         1500        2.0         0            7.313220\n",
              "3  4322032        48000      116.0         1           10.778956"
            ]
          },
          "metadata": {},
          "execution_count": 15
        }
      ]
    },
    {
      "cell_type": "markdown",
      "source": [
        "##**Discretizating Features**"
      ],
      "metadata": {
        "id": "jhtyetV5LYNp"
      }
    },
    {
      "cell_type": "markdown",
      "source": [
        "Depending on how we want to break up the data up the data, there are two techniques we can use. First, we can binarize the feature according to some threshold. By using this Method , we can convert the numerical data into the categorical data (with the use of threshold values)"
      ],
      "metadata": {
        "id": "HUryFzwQLhSk"
      }
    },
    {
      "cell_type": "code",
      "source": [
        "# Load libraries\n",
        "import numpy as np\n",
        "from sklearn.preprocessing import Binarizer\n",
        "# Create feature\n",
        "age = np.array([[6],\n",
        "                [12],\n",
        "                [20],\n",
        "                [36],\n",
        "                [65]])\n",
        "# Create binarizer\n",
        "binarizer= Binarizer(threshold=18)\n",
        "# Transform feature\n",
        "binarizer.fit_transform(age)"
      ],
      "metadata": {
        "colab": {
          "base_uri": "https://localhost:8080/"
        },
        "id": "eAxkZZqvKkBW",
        "outputId": "701b90a2-7aab-4225-e25c-d6fed60aeb56"
      },
      "execution_count": 25,
      "outputs": [
        {
          "output_type": "execute_result",
          "data": {
            "text/plain": [
              "array([[0],\n",
              "       [0],\n",
              "       [1],\n",
              "       [1],\n",
              "       [1]])"
            ]
          },
          "metadata": {},
          "execution_count": 25
        }
      ]
    },
    {
      "cell_type": "markdown",
      "source": [
        "Second, We can break up numerical features according to **multiple thresholds**"
      ],
      "metadata": {
        "id": "8Akl05irN4H0"
      }
    },
    {
      "cell_type": "code",
      "source": [
        "#Bin feature\n",
        "np.digitize(age,bins=[20,30,64])"
      ],
      "metadata": {
        "colab": {
          "base_uri": "https://localhost:8080/"
        },
        "id": "NWUfzqTRMPbw",
        "outputId": "4e397ad6-696b-475f-d599-dcd309ff6a72"
      },
      "execution_count": 26,
      "outputs": [
        {
          "output_type": "execute_result",
          "data": {
            "text/plain": [
              "array([[0],\n",
              "       [0],\n",
              "       [1],\n",
              "       [2],\n",
              "       [3]])"
            ]
          },
          "metadata": {},
          "execution_count": 26
        }
      ]
    },
    {
      "cell_type": "code",
      "source": [
        "#Bin feature\n",
        "np.digitize(age, bins=[20,30,64],right =True) # defalult righ= false , while changing it true, that does not make sudden difference"
      ],
      "metadata": {
        "colab": {
          "base_uri": "https://localhost:8080/"
        },
        "id": "1sybvhq3OG03",
        "outputId": "738b67ea-a4b2-492a-904d-aeee885c17db"
      },
      "execution_count": 28,
      "outputs": [
        {
          "output_type": "execute_result",
          "data": {
            "text/plain": [
              "array([[0],\n",
              "       [0],\n",
              "       [0],\n",
              "       [2],\n",
              "       [3]])"
            ]
          },
          "metadata": {},
          "execution_count": 28
        }
      ]
    },
    {
      "cell_type": "markdown",
      "source": [
        "##**Grouping Observations Using Clustering**(K-Means Clustering algorthim)"
      ],
      "metadata": {
        "id": "nIkBONIeO56r"
      }
    },
    {
      "cell_type": "code",
      "source": [
        "#Load libraries\n",
        "import pandas as pd\n",
        "from sklearn.datasets import make_blobs\n",
        "from sklearn.cluster import KMeans\n",
        "\n",
        "#Make simulated feature matrix\n",
        "features,_ = make_blobs(n_samples =50, n_features=2, centers=3,random_state=1)\n",
        "\n",
        "#Create DataFrame\n",
        "dataframe =pd.DataFrame(features, columns=['feature_1','feature_2'])\n",
        "\n",
        "#Make K_Means cluster\n",
        "clusterer = KMeans(3,random_state=0)\n",
        "\n",
        "#Fit clusterer\n",
        "clusterer.fit(features)\n",
        "\n",
        "#Predict values\n",
        "dataframe['group'] =clusterer.predict(features)\n",
        "\n",
        "#View first few observations\n",
        "dataframe=dataframe.sample(frac=1)\n",
        "dataframe.head(5)"
      ],
      "metadata": {
        "colab": {
          "base_uri": "https://localhost:8080/",
          "height": 206
        },
        "id": "hDGXaDwIO1C-",
        "outputId": "020a7361-6000-4ff2-b87f-a7b676cf575d"
      },
      "execution_count": 35,
      "outputs": [
        {
          "output_type": "execute_result",
          "data": {
            "text/html": [
              "\n",
              "  <div id=\"df-450b0515-051d-42a9-8958-d665740bfba9\">\n",
              "    <div class=\"colab-df-container\">\n",
              "      <div>\n",
              "<style scoped>\n",
              "    .dataframe tbody tr th:only-of-type {\n",
              "        vertical-align: middle;\n",
              "    }\n",
              "\n",
              "    .dataframe tbody tr th {\n",
              "        vertical-align: top;\n",
              "    }\n",
              "\n",
              "    .dataframe thead th {\n",
              "        text-align: right;\n",
              "    }\n",
              "</style>\n",
              "<table border=\"1\" class=\"dataframe\">\n",
              "  <thead>\n",
              "    <tr style=\"text-align: right;\">\n",
              "      <th></th>\n",
              "      <th>feature_1</th>\n",
              "      <th>feature_2</th>\n",
              "      <th>group</th>\n",
              "    </tr>\n",
              "  </thead>\n",
              "  <tbody>\n",
              "    <tr>\n",
              "      <th>12</th>\n",
              "      <td>-6.749247</td>\n",
              "      <td>-10.175429</td>\n",
              "      <td>2</td>\n",
              "    </tr>\n",
              "    <tr>\n",
              "      <th>40</th>\n",
              "      <td>-6.904845</td>\n",
              "      <td>-7.277059</td>\n",
              "      <td>2</td>\n",
              "    </tr>\n",
              "    <tr>\n",
              "      <th>41</th>\n",
              "      <td>-1.617346</td>\n",
              "      <td>4.989305</td>\n",
              "      <td>1</td>\n",
              "    </tr>\n",
              "    <tr>\n",
              "      <th>49</th>\n",
              "      <td>-7.684883</td>\n",
              "      <td>-7.455196</td>\n",
              "      <td>2</td>\n",
              "    </tr>\n",
              "    <tr>\n",
              "      <th>45</th>\n",
              "      <td>-9.509194</td>\n",
              "      <td>-4.028920</td>\n",
              "      <td>0</td>\n",
              "    </tr>\n",
              "  </tbody>\n",
              "</table>\n",
              "</div>\n",
              "      <button class=\"colab-df-convert\" onclick=\"convertToInteractive('df-450b0515-051d-42a9-8958-d665740bfba9')\"\n",
              "              title=\"Convert this dataframe to an interactive table.\"\n",
              "              style=\"display:none;\">\n",
              "        \n",
              "  <svg xmlns=\"http://www.w3.org/2000/svg\" height=\"24px\"viewBox=\"0 0 24 24\"\n",
              "       width=\"24px\">\n",
              "    <path d=\"M0 0h24v24H0V0z\" fill=\"none\"/>\n",
              "    <path d=\"M18.56 5.44l.94 2.06.94-2.06 2.06-.94-2.06-.94-.94-2.06-.94 2.06-2.06.94zm-11 1L8.5 8.5l.94-2.06 2.06-.94-2.06-.94L8.5 2.5l-.94 2.06-2.06.94zm10 10l.94 2.06.94-2.06 2.06-.94-2.06-.94-.94-2.06-.94 2.06-2.06.94z\"/><path d=\"M17.41 7.96l-1.37-1.37c-.4-.4-.92-.59-1.43-.59-.52 0-1.04.2-1.43.59L10.3 9.45l-7.72 7.72c-.78.78-.78 2.05 0 2.83L4 21.41c.39.39.9.59 1.41.59.51 0 1.02-.2 1.41-.59l7.78-7.78 2.81-2.81c.8-.78.8-2.07 0-2.86zM5.41 20L4 18.59l7.72-7.72 1.47 1.35L5.41 20z\"/>\n",
              "  </svg>\n",
              "      </button>\n",
              "      \n",
              "  <style>\n",
              "    .colab-df-container {\n",
              "      display:flex;\n",
              "      flex-wrap:wrap;\n",
              "      gap: 12px;\n",
              "    }\n",
              "\n",
              "    .colab-df-convert {\n",
              "      background-color: #E8F0FE;\n",
              "      border: none;\n",
              "      border-radius: 50%;\n",
              "      cursor: pointer;\n",
              "      display: none;\n",
              "      fill: #1967D2;\n",
              "      height: 32px;\n",
              "      padding: 0 0 0 0;\n",
              "      width: 32px;\n",
              "    }\n",
              "\n",
              "    .colab-df-convert:hover {\n",
              "      background-color: #E2EBFA;\n",
              "      box-shadow: 0px 1px 2px rgba(60, 64, 67, 0.3), 0px 1px 3px 1px rgba(60, 64, 67, 0.15);\n",
              "      fill: #174EA6;\n",
              "    }\n",
              "\n",
              "    [theme=dark] .colab-df-convert {\n",
              "      background-color: #3B4455;\n",
              "      fill: #D2E3FC;\n",
              "    }\n",
              "\n",
              "    [theme=dark] .colab-df-convert:hover {\n",
              "      background-color: #434B5C;\n",
              "      box-shadow: 0px 1px 3px 1px rgba(0, 0, 0, 0.15);\n",
              "      filter: drop-shadow(0px 1px 2px rgba(0, 0, 0, 0.3));\n",
              "      fill: #FFFFFF;\n",
              "    }\n",
              "  </style>\n",
              "\n",
              "      <script>\n",
              "        const buttonEl =\n",
              "          document.querySelector('#df-450b0515-051d-42a9-8958-d665740bfba9 button.colab-df-convert');\n",
              "        buttonEl.style.display =\n",
              "          google.colab.kernel.accessAllowed ? 'block' : 'none';\n",
              "\n",
              "        async function convertToInteractive(key) {\n",
              "          const element = document.querySelector('#df-450b0515-051d-42a9-8958-d665740bfba9');\n",
              "          const dataTable =\n",
              "            await google.colab.kernel.invokeFunction('convertToInteractive',\n",
              "                                                     [key], {});\n",
              "          if (!dataTable) return;\n",
              "\n",
              "          const docLinkHtml = 'Like what you see? Visit the ' +\n",
              "            '<a target=\"_blank\" href=https://colab.research.google.com/notebooks/data_table.ipynb>data table notebook</a>'\n",
              "            + ' to learn more about interactive tables.';\n",
              "          element.innerHTML = '';\n",
              "          dataTable['output_type'] = 'display_data';\n",
              "          await google.colab.output.renderOutput(dataTable, element);\n",
              "          const docLink = document.createElement('div');\n",
              "          docLink.innerHTML = docLinkHtml;\n",
              "          element.appendChild(docLink);\n",
              "        }\n",
              "      </script>\n",
              "    </div>\n",
              "  </div>\n",
              "  "
            ],
            "text/plain": [
              "    feature_1  feature_2  group\n",
              "12  -6.749247 -10.175429      2\n",
              "40  -6.904845  -7.277059      2\n",
              "41  -1.617346   4.989305      1\n",
              "49  -7.684883  -7.455196      2\n",
              "45  -9.509194  -4.028920      0"
            ]
          },
          "metadata": {},
          "execution_count": 35
        }
      ]
    },
    {
      "cell_type": "markdown",
      "source": [
        "##**Deleting the Observation with Missing Values**"
      ],
      "metadata": {
        "id": "CwUAqFWs-YMR"
      }
    },
    {
      "cell_type": "markdown",
      "source": [
        "We need to delete the observations containing missing vaulues"
      ],
      "metadata": {
        "id": "v2I8M29l-mlm"
      }
    },
    {
      "cell_type": "code",
      "source": [
        "# Load library\n",
        "import numpy as np\n",
        "# Create feature matrix\n",
        "features = np.array([[1.1, 11.1],\n",
        "                    [2.2, 22.2],\n",
        "                    [3.3, 33.3],\n",
        "                    [4.4, 44.4],\n",
        "                    [np.nan, 55]])\n",
        "# Keep only observations that are not (denoted by ~) missing\n",
        "features[~np.isnan(features).any(axis=1)]"
      ],
      "metadata": {
        "colab": {
          "base_uri": "https://localhost:8080/"
        },
        "id": "QuwQ3qQsTiAT",
        "outputId": "064920da-d902-47e7-adab-e1764430caf9"
      },
      "execution_count": 1,
      "outputs": [
        {
          "output_type": "execute_result",
          "data": {
            "text/plain": [
              "array([[ 1.1, 11.1],\n",
              "       [ 2.2, 22.2],\n",
              "       [ 3.3, 33.3],\n",
              "       [ 4.4, 44.4]])"
            ]
          },
          "metadata": {},
          "execution_count": 1
        }
      ]
    },
    {
      "cell_type": "markdown",
      "source": [
        "\n",
        "Alternatively, we can drop missing observations using pandas"
      ],
      "metadata": {
        "id": "NrlpTEn1_lF7"
      }
    },
    {
      "cell_type": "code",
      "source": [
        "# Load library\n",
        "import pandas as pd\n",
        "# Load data\n",
        "dataframe = pd.DataFrame(features, columns=[\"feature_1\", \"feature_2\"])\n",
        "# Remove observations with missing values\n",
        "dataframe.dropna()"
      ],
      "metadata": {
        "colab": {
          "base_uri": "https://localhost:8080/",
          "height": 175
        },
        "id": "TVeWrxRg_lst",
        "outputId": "698c26a8-0975-4b33-e1ba-338f3739052b"
      },
      "execution_count": 2,
      "outputs": [
        {
          "output_type": "execute_result",
          "data": {
            "text/html": [
              "\n",
              "  <div id=\"df-fc19fb35-9ae5-47e9-a638-13c8d39491ad\">\n",
              "    <div class=\"colab-df-container\">\n",
              "      <div>\n",
              "<style scoped>\n",
              "    .dataframe tbody tr th:only-of-type {\n",
              "        vertical-align: middle;\n",
              "    }\n",
              "\n",
              "    .dataframe tbody tr th {\n",
              "        vertical-align: top;\n",
              "    }\n",
              "\n",
              "    .dataframe thead th {\n",
              "        text-align: right;\n",
              "    }\n",
              "</style>\n",
              "<table border=\"1\" class=\"dataframe\">\n",
              "  <thead>\n",
              "    <tr style=\"text-align: right;\">\n",
              "      <th></th>\n",
              "      <th>feature_1</th>\n",
              "      <th>feature_2</th>\n",
              "    </tr>\n",
              "  </thead>\n",
              "  <tbody>\n",
              "    <tr>\n",
              "      <th>0</th>\n",
              "      <td>1.1</td>\n",
              "      <td>11.1</td>\n",
              "    </tr>\n",
              "    <tr>\n",
              "      <th>1</th>\n",
              "      <td>2.2</td>\n",
              "      <td>22.2</td>\n",
              "    </tr>\n",
              "    <tr>\n",
              "      <th>2</th>\n",
              "      <td>3.3</td>\n",
              "      <td>33.3</td>\n",
              "    </tr>\n",
              "    <tr>\n",
              "      <th>3</th>\n",
              "      <td>4.4</td>\n",
              "      <td>44.4</td>\n",
              "    </tr>\n",
              "  </tbody>\n",
              "</table>\n",
              "</div>\n",
              "      <button class=\"colab-df-convert\" onclick=\"convertToInteractive('df-fc19fb35-9ae5-47e9-a638-13c8d39491ad')\"\n",
              "              title=\"Convert this dataframe to an interactive table.\"\n",
              "              style=\"display:none;\">\n",
              "        \n",
              "  <svg xmlns=\"http://www.w3.org/2000/svg\" height=\"24px\"viewBox=\"0 0 24 24\"\n",
              "       width=\"24px\">\n",
              "    <path d=\"M0 0h24v24H0V0z\" fill=\"none\"/>\n",
              "    <path d=\"M18.56 5.44l.94 2.06.94-2.06 2.06-.94-2.06-.94-.94-2.06-.94 2.06-2.06.94zm-11 1L8.5 8.5l.94-2.06 2.06-.94-2.06-.94L8.5 2.5l-.94 2.06-2.06.94zm10 10l.94 2.06.94-2.06 2.06-.94-2.06-.94-.94-2.06-.94 2.06-2.06.94z\"/><path d=\"M17.41 7.96l-1.37-1.37c-.4-.4-.92-.59-1.43-.59-.52 0-1.04.2-1.43.59L10.3 9.45l-7.72 7.72c-.78.78-.78 2.05 0 2.83L4 21.41c.39.39.9.59 1.41.59.51 0 1.02-.2 1.41-.59l7.78-7.78 2.81-2.81c.8-.78.8-2.07 0-2.86zM5.41 20L4 18.59l7.72-7.72 1.47 1.35L5.41 20z\"/>\n",
              "  </svg>\n",
              "      </button>\n",
              "      \n",
              "  <style>\n",
              "    .colab-df-container {\n",
              "      display:flex;\n",
              "      flex-wrap:wrap;\n",
              "      gap: 12px;\n",
              "    }\n",
              "\n",
              "    .colab-df-convert {\n",
              "      background-color: #E8F0FE;\n",
              "      border: none;\n",
              "      border-radius: 50%;\n",
              "      cursor: pointer;\n",
              "      display: none;\n",
              "      fill: #1967D2;\n",
              "      height: 32px;\n",
              "      padding: 0 0 0 0;\n",
              "      width: 32px;\n",
              "    }\n",
              "\n",
              "    .colab-df-convert:hover {\n",
              "      background-color: #E2EBFA;\n",
              "      box-shadow: 0px 1px 2px rgba(60, 64, 67, 0.3), 0px 1px 3px 1px rgba(60, 64, 67, 0.15);\n",
              "      fill: #174EA6;\n",
              "    }\n",
              "\n",
              "    [theme=dark] .colab-df-convert {\n",
              "      background-color: #3B4455;\n",
              "      fill: #D2E3FC;\n",
              "    }\n",
              "\n",
              "    [theme=dark] .colab-df-convert:hover {\n",
              "      background-color: #434B5C;\n",
              "      box-shadow: 0px 1px 3px 1px rgba(0, 0, 0, 0.15);\n",
              "      filter: drop-shadow(0px 1px 2px rgba(0, 0, 0, 0.3));\n",
              "      fill: #FFFFFF;\n",
              "    }\n",
              "  </style>\n",
              "\n",
              "      <script>\n",
              "        const buttonEl =\n",
              "          document.querySelector('#df-fc19fb35-9ae5-47e9-a638-13c8d39491ad button.colab-df-convert');\n",
              "        buttonEl.style.display =\n",
              "          google.colab.kernel.accessAllowed ? 'block' : 'none';\n",
              "\n",
              "        async function convertToInteractive(key) {\n",
              "          const element = document.querySelector('#df-fc19fb35-9ae5-47e9-a638-13c8d39491ad');\n",
              "          const dataTable =\n",
              "            await google.colab.kernel.invokeFunction('convertToInteractive',\n",
              "                                                     [key], {});\n",
              "          if (!dataTable) return;\n",
              "\n",
              "          const docLinkHtml = 'Like what you see? Visit the ' +\n",
              "            '<a target=\"_blank\" href=https://colab.research.google.com/notebooks/data_table.ipynb>data table notebook</a>'\n",
              "            + ' to learn more about interactive tables.';\n",
              "          element.innerHTML = '';\n",
              "          dataTable['output_type'] = 'display_data';\n",
              "          await google.colab.output.renderOutput(dataTable, element);\n",
              "          const docLink = document.createElement('div');\n",
              "          docLink.innerHTML = docLinkHtml;\n",
              "          element.appendChild(docLink);\n",
              "        }\n",
              "      </script>\n",
              "    </div>\n",
              "  </div>\n",
              "  "
            ],
            "text/plain": [
              "   feature_1  feature_2\n",
              "0        1.1       11.1\n",
              "1        2.2       22.2\n",
              "2        3.3       33.3\n",
              "3        4.4       44.4"
            ]
          },
          "metadata": {},
          "execution_count": 2
        }
      ]
    }
  ]
}